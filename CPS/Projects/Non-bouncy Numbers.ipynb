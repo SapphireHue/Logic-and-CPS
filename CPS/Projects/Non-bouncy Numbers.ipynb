{
 "cells": [
  {
   "cell_type": "markdown",
   "metadata": {},
   "source": [
    "# Project Euler Problem 113: Non-bouncy Numbers\n",
    "[Problem description](https://projecteuler.net/problem=113)"
   ]
  },
  {
   "cell_type": "markdown",
   "metadata": {},
   "source": [
    "I will define 3 kinds of non-bouncy numbers:\n",
    "- constant: every digit in the number is the same\n",
    "- increasing: non-constant and every sucessive digit is greater than or equal to the one before it\n",
    "- decreasing: non-constant and every sucessive digit is less than or equal to the one before it"
   ]
  },
  {
   "cell_type": "markdown",
   "metadata": {},
   "source": [
    "An $n$ digit constant number is the digit $a$ concatenated with an $n-1$ digit constant number with first digit $a$."
   ]
  },
  {
   "cell_type": "markdown",
   "metadata": {},
   "source": [
    "An $n$ digit increasing number is the digit $a$ concatenated with one of the following:\n",
    "- an $n-1$ digit increasing number with first digit $\\geq a$ \n",
    "- an $n-1$ digit constant number with first digit $> a$."
   ]
  },
  {
   "cell_type": "markdown",
   "metadata": {},
   "source": [
    "An $n$ digit decreasing number is the digit $a$ concatenated with one of the following:\n",
    "- an $n-1$ digit decreasing number with first digit $\\leq a$\n",
    "- an $n-1$ digit constant number with first digit $< a$\n",
    "- an $n-1$ digit sequence of 0's"
   ]
  },
  {
   "cell_type": "markdown",
   "metadata": {},
   "source": [
    "I will initialize 2 dictionaries for increasing and decreasing numbers of a certain length, with the key being the first digit of the number and the value being how many of that kind of number have that first digit.\\\n",
    "I do not need to keep a dictionary for constant numbers, because there will be only one for each first digit at a given length."
   ]
  },
  {
   "cell_type": "code",
   "execution_count": 1,
   "metadata": {},
   "outputs": [
    {
     "name": "stdout",
     "output_type": "stream",
     "text": [
      "51161058134250\n"
     ]
    }
   ],
   "source": [
    "inc = {}\n",
    "dec = {}\n",
    "for i in range(1, 10):\n",
    "    inc[i] = 0\n",
    "    dec[i] = 0\n",
    "total = 9 # 1 for each constant 1 digit number\n",
    "\n",
    "for n in range(2, 101): # n = number of digits\n",
    "    total += 9 # for every length there are 9 constant numbers\n",
    "    newInc = {}\n",
    "    newDec = {}\n",
    "    for i in range(1, 10): # i = first digit\n",
    "        newInc[i] = 0\n",
    "        newDec[i] = 0\n",
    "        # increasing numbers\n",
    "        for x in range(i, 10): # x = first digit of n-1 long number, >= i\n",
    "            newInc[i] += inc[x] #number of increasing n-1 long numbers with x >=i\n",
    "        newInc[i]+= 9 - i  # number of constant numbers with first digit > i\n",
    "        # decreasing numbers:\n",
    "        for x in range(1, i+1):\n",
    "            newDec[i]+= dec[x]\n",
    "        newDec[i]+=i # number of constant numbers with first digit < i + 1 (for sequence of 0s)\n",
    "        total+=newInc[i] + newDec[i]\n",
    "    inc = newInc\n",
    "    dec = newDec\n",
    "print(total)\n"
   ]
  }
 ],
 "metadata": {
  "kernelspec": {
   "display_name": "Python 3",
   "language": "python",
   "name": "python3"
  },
  "language_info": {
   "codemirror_mode": {
    "name": "ipython",
    "version": 3
   },
   "file_extension": ".py",
   "mimetype": "text/x-python",
   "name": "python",
   "nbconvert_exporter": "python",
   "pygments_lexer": "ipython3",
   "version": "3.12.2"
  }
 },
 "nbformat": 4,
 "nbformat_minor": 2
}
