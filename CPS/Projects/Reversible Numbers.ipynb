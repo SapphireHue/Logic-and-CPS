{
 "cells": [
  {
   "cell_type": "markdown",
   "metadata": {},
   "source": [
    "# Project Euler Problem 145: Reversible Numbers\n",
    "[Problem description](https://projecteuler.net/problem=145)"
   ]
  },
  {
   "cell_type": "markdown",
   "metadata": {},
   "source": [
    "Define a function to reverse a number. There are two possible approaches:\n",
    "- A: Convert the integer to a string, reverse the string, and convert back into an integer\n",
    "- B: Get each digit of the integer with modulo and dividing\n",
    "\n",
    "I'm going to write both and see which one runs faster."
   ]
  },
  {
   "cell_type": "code",
   "execution_count": 8,
   "metadata": {},
   "outputs": [],
   "source": [
    "def reverseA(num):\n",
    "    return int(str(num)[::-1])\n",
    "\n",
    "def reverseB(num):\n",
    "    reverseNum = 0\n",
    "    while num > 0:\n",
    "        reverseNum *= 10\n",
    "        reverseNum += num%10\n",
    "        num //= 10 # integer division\n",
    "    return reverseNum"
   ]
  },
  {
   "cell_type": "code",
   "execution_count": 58,
   "metadata": {},
   "outputs": [
    {
     "name": "stdout",
     "output_type": "stream",
     "text": [
      "ReverseA: 0.7485432950197719\n",
      "ReverseB: 3.3923600430134684\n"
     ]
    }
   ],
   "source": [
    "import timeit\n",
    "print(\"ReverseA:\", timeit.timeit(stmt=lambda: reverseA(911157498), number=1000000))\n",
    "print(\"ReverseB:\", timeit.timeit(stmt=lambda: reverseB(911157498), number=1000000))"
   ]
  },
  {
   "cell_type": "markdown",
   "metadata": {},
   "source": [
    "The first method (reversing a string) consistently takes about half the time of the second, so that is the one I'll be using. I have a similar task in checking if every digit of a number is odd, and similarly two different approaches. I'll again code both and perform the same test."
   ]
  },
  {
   "cell_type": "code",
   "execution_count": 59,
   "metadata": {},
   "outputs": [
    {
     "name": "stdout",
     "output_type": "stream",
     "text": [
      "oddDigitsA: 4.06040784297511\n",
      "oddDigitsB: 0.16764603601768613\n"
     ]
    }
   ],
   "source": [
    "def oddDigitsA(num):\n",
    "    num = str(num)\n",
    "    for digit in num:\n",
    "        if int(digit) % 2 == 0:\n",
    "            return False\n",
    "    return True\n",
    "\n",
    "def oddDigitsB(num):\n",
    "    while num > 0:\n",
    "        if num%2==0:\n",
    "            return False\n",
    "        num//=10\n",
    "    return True\n",
    "\n",
    "import timeit\n",
    "print(\"oddDigitsA:\", timeit.timeit(stmt=lambda: oddDigitsA(1111111119111574984), number=1000000))\n",
    "print(\"oddDigitsB:\", timeit.timeit(stmt=lambda: oddDigitsB(1111111119111574984), number=1000000))"
   ]
  },
  {
   "cell_type": "markdown",
   "metadata": {},
   "source": [
    "Interestingly, the second method (integer division) was much faster here, so that is the function I'll be using. "
   ]
  },
  {
   "cell_type": "code",
   "execution_count": 39,
   "metadata": {},
   "outputs": [
    {
     "name": "stdout",
     "output_type": "stream",
     "text": [
      "Addition 0.4552810200257227\n"
     ]
    }
   ],
   "source": [
    "print(\"Addition\", timeit.timeit(\"911157498 + 911157498\", number = 1000000))"
   ]
  },
  {
   "cell_type": "markdown",
   "metadata": {},
   "source": [
    "I've also tested the time addition of two 9 digit numbers takes. To evaluate whether any number is reversible would require\n",
    "- reversing the number\n",
    "- adding the number and the reverse of the number\n",
    "- checking each digit in the sum\n",
    "\n",
    "It would take 1.3 seconds (0.7 to reverse, 0.45 to add, 0.15 to check odd-ness) to check $10^6$ numbers, thus it would take a thousand times that to check $10^9$ numbers, or a little over 20 minutes. That might look like this:"
   ]
  },
  {
   "cell_type": "code",
   "execution_count": 29,
   "metadata": {},
   "outputs": [
    {
     "name": "stdout",
     "output_type": "stream",
     "text": [
      "608720\n"
     ]
    }
   ],
   "source": [
    "oddDigits = oddDigitsB\n",
    "reverse = reverseA\n",
    "count = 0\n",
    "for i in range(1, 1000000000):\n",
    "    if i % 10 != 0: # eliminate leading 0s\n",
    "        if oddDigits(i + reverse(i)):\n",
    "            count+=1\n",
    "print(count)"
   ]
  },
  {
   "cell_type": "markdown",
   "metadata": {},
   "source": [
    "That produced an answer of $608720$ in 22 minutes and 22 seconds."
   ]
  },
  {
   "cell_type": "markdown",
   "metadata": {},
   "source": [
    "\n",
    "\n",
    "However, we can do better.\n",
    "\n",
    "Every digit of the sum must be odd. This means if the first (left-most) digit of $n$ is odd, then the last digit of reverse($n$) and thus the first digit of $n$ must be even, and vice versa (if the first digit of $n$ is even, the last digit must be odd). This would roughly halve the number of operations.\n",
    "\n"
   ]
  },
  {
   "cell_type": "code",
   "execution_count": 50,
   "metadata": {},
   "outputs": [
    {
     "name": "stdout",
     "output_type": "stream",
     "text": [
      "608720\n"
     ]
    }
   ],
   "source": [
    "oddDigits = oddDigitsB\n",
    "reverse = reverseA\n",
    "count = 0\n",
    "for pow10 in range(1, 9): \n",
    "    base = 10**pow10\n",
    "    for leadingDigit in range(1, 10, 2): # odd leading digits\n",
    "        minNum = base * leadingDigit\n",
    "        maxNum = minNum+base\n",
    "        for i in range(minNum + 2, maxNum, 2): # even numbers only\n",
    "            if i%10!=0:\n",
    "                if oddDigits(i + reverse(i)):\n",
    "                    count+=1\n",
    "    for leadingDigit in range(2, 10, 2): # even leading digits\n",
    "        minNum = base * leadingDigit\n",
    "        maxNum = minNum+base\n",
    "        for i in range(minNum + 1, maxNum, 2): # odd numbers only\n",
    "            if oddDigits(i + reverse(i)):\n",
    "                count+=1\n",
    "print(count)"
   ]
  },
  {
   "cell_type": "markdown",
   "metadata": {},
   "source": [
    "That produced the same answer in 9 minutes and 11 seconds. Note that this code also skips checking one-digit numbers."
   ]
  },
  {
   "cell_type": "markdown",
   "metadata": {},
   "source": [
    "Let's take a closer look at the reversibility of numbers with an odd number of digits. The center digit will always be added to itself, producing an even number. However, you can still have a 3-digit reversible number ($409$ is the example given in the problem) by being careful about the \"carry\" of an adjacent addition.\n",
    "\n",
    "A one digit number $n$ can never be reversible, because reverse($n$) = $n$, so $n$ + reverse($n$) = $2n$, so the last digit will always be even.\n",
    "\n",
    "However, a three digit number $n$ can be reversible if certain conditions are met. I'll label the digits $\\underline{n_{-1}}\\ \\underline{n_{0}}\\ \\underline{n_{1}}$, where $n_{1}$ is the ones place and $n_{-1}$ is the hundreds. I'll label the sum $n$ + reverse($n$) as $s$ and the digits of the sum $\\underline{s_{-2}}\\ \\underline{s_{-1}}\\ \\underline{s_{0}}\\ \\underline{s_{1}}$, where $s_{1}$ is the one's place and $s_{-2}$ is the (potential) thousands place. We can see $s_{1} = n_{1} + n_{-1}$, $s_{0} = n{0} + n{0}$, and $s_{-1} = n_{-1} + n_{1}$, although each digit may need 1 added to it (a carry) if the digit to the right was greater than 10. We can generalize this as \n",
    "$s_{i} = \\left\\{ \n",
    "    \\begin{array}{lr} \n",
    "    n_{i} + n_{-i} & if s_{i + 1} < 10 \\\\\n",
    "    n_{i} + n_{-i} + 1 & if s_{i + 1} \\geq 10 \\\\\n",
    "    \\end{array}\n",
    "\\right.$. $n_{0} + n_{0}$ will always be even, so for $s_{0}$ to be odd, a carry must be added to it. Thus, $s_{1}$ must be greater than 10 (i.e. $n_{1} + n_{-1}$ must produce a carry). Because $n_{1} + n_{-1}$ produced a carry, $n_{-1} + n_{1}$ must as well, so $s_{-1} > 10$, so $s_{-2} = 1$. Thus, every reversible 3 digit number must have the first digit and last digit sum to an odd number greater than 10.\n",
    "\n",
    "However, this doesn't work for five digits. Let there be a five digit reversible number $n$, with digits $\\underline{n_{-2}}\\ \\underline{n_{-1}}\\ \\underline{n_{0}}\\ \\underline{n_{1}}\\ \\underline{n_{2}}$. The same logic as above holds for digits -1 through 1. Because we determined that $s_{-1} > 10$ and there would be a carry on $s_{-2}$, we now know $n_{-2} + n_{2}$ must be even for $s_{-2}$ to be odd. However, this violates one of the first principles we discovered about reversible numbers: that the first and last digits must sum to an odd number (in this case, so that $s_{2}$ can be odd). Thus, there cannot exist a five digit reversible number.\n",
    "\n",
    "This logic can be continued out to show that there are seven digit reversible numbers, but not nine digit reversible numbers. "
   ]
  },
  {
   "cell_type": "markdown",
   "metadata": {},
   "source": [
    "This allows us to make one major optimization. Because there are no nine digit reversible numbers and the problem asks us to find reversible numbers up to 1,000,000,000, we know that we don't need to check numbers 100,000,000-999,999,999 (and 1,000,000,000 could never be reversible anyway), cutting out about 90% of numbers to check (and helpfully, the most computationally expensive numbers to check)."
   ]
  },
  {
   "cell_type": "code",
   "execution_count": 53,
   "metadata": {},
   "outputs": [
    {
     "name": "stdout",
     "output_type": "stream",
     "text": [
      "608720\n"
     ]
    }
   ],
   "source": [
    "oddDigits = oddDigitsB\n",
    "reverse = reverseA\n",
    "count = 0\n",
    "for i in range(1, 100000000):\n",
    "    if i % 10 != 0: # eliminate leading 0s\n",
    "        if oddDigits(i + reverse(i)):\n",
    "            count+=1\n",
    "print(count)"
   ]
  },
  {
   "cell_type": "markdown",
   "metadata": {},
   "source": [
    "The original version took 2 minutes and 37 seconds to run with this change."
   ]
  },
  {
   "cell_type": "code",
   "execution_count": 54,
   "metadata": {},
   "outputs": [
    {
     "name": "stdout",
     "output_type": "stream",
     "text": [
      "608720\n"
     ]
    }
   ],
   "source": [
    "oddDigits = oddDigitsB\n",
    "reverse = reverseA\n",
    "count = 0\n",
    "for pow10 in range(1, 8): \n",
    "    base = 10**pow10\n",
    "    for leadingDigit in range(1, 10, 2): # odd leading digits\n",
    "        minNum = base * leadingDigit\n",
    "        maxNum = minNum+base\n",
    "        for i in range(minNum + 2, maxNum, 2): # even numbers only\n",
    "            if i%10!=0:\n",
    "                if oddDigits(i + reverse(i)):\n",
    "                    count+=1\n",
    "    for leadingDigit in range(2, 10, 2): # even leading digits\n",
    "        minNum = base * leadingDigit\n",
    "        maxNum = minNum+base\n",
    "        for i in range(minNum + 1, maxNum, 2): # odd numbers only\n",
    "            if oddDigits(i + reverse(i)):\n",
    "                count+=1\n",
    "print(count)"
   ]
  },
  {
   "cell_type": "markdown",
   "metadata": {},
   "source": [
    "The second version took 1 minute and 16 seconds with this change."
   ]
  },
  {
   "cell_type": "markdown",
   "metadata": {},
   "source": [
    "I've also modified it to skip checking 5 digit numbers below, but the improvement, if any, is negligible. (Both times I ran it it actually took longer than the code above. If the \"if\" statement I added to check for that were checked more frequently, it would be possible that the checks involved in skipping 5 digit numbers actually took longer than simply checking each 5 digit number, but the \"if\" statement is checked 7 times, so I'm chalking this up to computer inconsistencies.)"
   ]
  },
  {
   "cell_type": "code",
   "execution_count": 57,
   "metadata": {},
   "outputs": [
    {
     "name": "stdout",
     "output_type": "stream",
     "text": [
      "608720\n"
     ]
    }
   ],
   "source": [
    "oddDigits = oddDigitsB\n",
    "reverse = reverseA\n",
    "count = 0\n",
    "for pow10 in range(1, 8): \n",
    "    if pow10==4: # skip 5 digit numbers\n",
    "        continue\n",
    "    base = 10**pow10\n",
    "    for leadingDigit in range(1, 10, 2): # odd leading digits\n",
    "        minNum = base * leadingDigit\n",
    "        maxNum = minNum+base\n",
    "        for i in range(minNum + 2, maxNum, 2): # even numbers only\n",
    "            if i%10!=0:\n",
    "                if oddDigits(i + reverse(i)):\n",
    "                    count+=1\n",
    "    for leadingDigit in range(2, 10, 2): # even leading digits\n",
    "        minNum = base * leadingDigit\n",
    "        maxNum = minNum+base\n",
    "        for i in range(minNum + 1, maxNum, 2): # odd numbers only\n",
    "            if oddDigits(i + reverse(i)):\n",
    "                count+=1\n",
    "print(count)"
   ]
  }
 ],
 "metadata": {
  "kernelspec": {
   "display_name": "Python 3",
   "language": "python",
   "name": "python3"
  },
  "language_info": {
   "codemirror_mode": {
    "name": "ipython",
    "version": 3
   },
   "file_extension": ".py",
   "mimetype": "text/x-python",
   "name": "python",
   "nbconvert_exporter": "python",
   "pygments_lexer": "ipython3",
   "version": "3.12.2"
  }
 },
 "nbformat": 4,
 "nbformat_minor": 2
}
