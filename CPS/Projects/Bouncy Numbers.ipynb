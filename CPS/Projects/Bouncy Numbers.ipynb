{
 "cells": [
  {
   "cell_type": "markdown",
   "metadata": {},
   "source": [
    "# Project Euler Problem 112: Bouncy Numbers\n",
    "[Problem description](https://projecteuler.net/problem=112)"
   ]
  },
  {
   "cell_type": "markdown",
   "metadata": {},
   "source": [
    "Define a function to determine whether a number is bouncy. The first time two adjacent digits are non-repeating, it will initialize a direction: 1 for increasing, -1 for decreasing. It will check to see if subsequent pairs of digits are increasing or decreasing (repeating digits being ignored). If any pair is decreasing when the initial direction was increasing or vice versa, the number is bouncy. If there is no such direction-changing pair, the number is non-bouncy."
   ]
  },
  {
   "cell_type": "code",
   "execution_count": 10,
   "metadata": {},
   "outputs": [],
   "source": [
    "def isBouncy(numString):\n",
    "    i = 0\n",
    "    maxI = len(numString) - 1\n",
    "    initialDirection = 0 # 1 indicates increasing, -1 indicates decreasing\n",
    "    while i < maxI:\n",
    "        if numString[i] == numString[i+1]:\n",
    "            pass\n",
    "        elif int(numString[i]) < int(numString[i+1]):\n",
    "            if initialDirection == 0:\n",
    "                initialDirection = 1\n",
    "            elif initialDirection == -1:\n",
    "                return True\n",
    "        elif int(numString[i]) > int(numString[i+1]):\n",
    "            if initialDirection == 0:\n",
    "                initialDirection = -1\n",
    "            elif initialDirection == 1:\n",
    "                return True\n",
    "        i+=1\n",
    "    return False"
   ]
  },
  {
   "cell_type": "markdown",
   "metadata": {},
   "source": [
    "At 21780, 90% are bouncy numbers. That means 19602 are bouncy (and 2178 are non-bouncy). I will iterate up through numbers until I reach a number for which the proportion of bouncy numbers is 99%."
   ]
  },
  {
   "cell_type": "code",
   "execution_count": 12,
   "metadata": {},
   "outputs": [
    {
     "name": "stdout",
     "output_type": "stream",
     "text": [
      "1587000\n",
      "1571130\n"
     ]
    }
   ],
   "source": [
    "bouncyCount = 19602\n",
    "currentNum = 21780\n",
    "\n",
    "while bouncyCount!=0.99 * currentNum:\n",
    "    currentNum+=1\n",
    "    if isBouncy(str(currentNum)):\n",
    "        bouncyCount+=1\n",
    "print(currentNum)\n",
    "print(bouncyCount)"
   ]
  }
 ],
 "metadata": {
  "kernelspec": {
   "display_name": "Python 3",
   "language": "python",
   "name": "python3"
  },
  "language_info": {
   "codemirror_mode": {
    "name": "ipython",
    "version": 3
   },
   "file_extension": ".py",
   "mimetype": "text/x-python",
   "name": "python",
   "nbconvert_exporter": "python",
   "pygments_lexer": "ipython3",
   "version": "3.12.2"
  }
 },
 "nbformat": 4,
 "nbformat_minor": 2
}
