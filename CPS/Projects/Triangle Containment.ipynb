{
 "cells": [
  {
   "cell_type": "markdown",
   "metadata": {},
   "source": [
    "# Project Euler Problem 102: Triangle Containment\n",
    "[Problem description](https://projecteuler.net/problem=102)\n",
    "\n",
    "This script uses \"triangles.txt\" as its input file. "
   ]
  },
  {
   "cell_type": "markdown",
   "metadata": {},
   "source": [
    "Every triangle consists of 3 line segments. If the triangle contains the origin, the following must be true:\n",
    "- A line segment crosses $x = 0$ with $y \\geq 0$\n",
    "- A line segment crosses $x = 0$ with $y \\leq 0$\n",
    "\n",
    "I'm defining a function to determine how a line segment $AB$ crosses the line $x = 0$. It returns one of the following:\n",
    "- -1: The segment crosses $x = 0$ with $y < 0$\n",
    "- 0: The segment does not cross $x = 0$\n",
    "- 1: The segment crosses $x = 0$ with $y > 0$\n",
    "- 2: The segment intersects $(0, 0)$. This is a special case, because if any segment intersects the origin, then the triangle must contain the origin.\n",
    "\n",
    "To determine whether the segment crosses above or below 0, I convert it into the form $y = m(x-x_{1}) + y_{1}$.\n"
   ]
  },
  {
   "cell_type": "code",
   "execution_count": 4,
   "metadata": {},
   "outputs": [],
   "source": [
    "def crosses(a_x, a_y, b_x, b_y):\n",
    "    if (a_x > 0 and b_x > 0) or (a_x < 0 and b_x < 0):\n",
    "        return 0\n",
    "    m = (b_y - a_y)/(b_x - a_x) # slope = rise / run\n",
    "    y = m*(-a_x) + a_y\n",
    "    if y == 0: \n",
    "        return 2\n",
    "    if y < 0:\n",
    "        return -1\n",
    "    if y > 0:\n",
    "        return 1"
   ]
  },
  {
   "cell_type": "markdown",
   "metadata": {},
   "source": [
    "I'll then define a function to check each line segment."
   ]
  },
  {
   "cell_type": "code",
   "execution_count": 12,
   "metadata": {},
   "outputs": [],
   "source": [
    "def containsOrigin(pointsString): # pointsString is a comma-separated list of points of the form x1,y1,x2,y2,x3,y3\n",
    "    a_x, a_y, b_x, b_y, c_x, c_y = [int(num) for num in pointsString.split(\",\")]\n",
    "    segments = [crosses(a_x, a_y, b_x, b_y), crosses(b_x, b_y, c_x, c_y), crosses(c_x, c_y, a_x, a_y)]\n",
    "    if 2 in segments:\n",
    "        return True\n",
    "    if 1 in segments and -1 in segments:\n",
    "        return True\n",
    "    return False"
   ]
  },
  {
   "cell_type": "markdown",
   "metadata": {},
   "source": [
    "Check how many triangles contain the origin:"
   ]
  },
  {
   "cell_type": "code",
   "execution_count": 17,
   "metadata": {},
   "outputs": [
    {
     "name": "stdout",
     "output_type": "stream",
     "text": [
      "228\n"
     ]
    }
   ],
   "source": [
    "count = 0\n",
    "with open(\"triangles.txt\") as file:\n",
    "    for line in file:\n",
    "        if containsOrigin(line):\n",
    "            count+=1\n",
    "print(count)"
   ]
  }
 ],
 "metadata": {
  "kernelspec": {
   "display_name": "Python 3 (ipykernel)",
   "language": "python",
   "name": "python3"
  },
  "language_info": {
   "codemirror_mode": {
    "name": "ipython",
    "version": 3
   },
   "file_extension": ".py",
   "mimetype": "text/x-python",
   "name": "python",
   "nbconvert_exporter": "python",
   "pygments_lexer": "ipython3",
   "version": "3.12.2"
  }
 },
 "nbformat": 4,
 "nbformat_minor": 4
}
