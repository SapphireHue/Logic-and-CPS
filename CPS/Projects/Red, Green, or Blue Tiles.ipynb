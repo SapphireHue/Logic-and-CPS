{
 "cells": [
  {
   "cell_type": "markdown",
   "metadata": {},
   "source": [
    "# Project Euler Problem 116: Red, Green, or Blue Tiles\n",
    "[Problem description](https://projecteuler.net/problem=116)"
   ]
  },
  {
   "cell_type": "markdown",
   "metadata": {},
   "source": [
    "Assume tiles are replaced from left to right. Once a tile is placed, the number of possible arrangements is 1 (no more tiles are placed) plus the number of possible arrangements for the number of blocks to the right. This naturally lends itself to a recursive implementation."
   ]
  },
  {
   "cell_type": "code",
   "execution_count": 6,
   "metadata": {},
   "outputs": [],
   "source": [
    "def replace(rowLen, tileLen):\n",
    "    if rowLen < tileLen:\n",
    "        return 0\n",
    "    arrangements = 0\n",
    "    for tileStart in range(0, rowLen - tileLen + 1):\n",
    "        arrangements += 1 # this tile + no succeeding tiles\n",
    "        arrangements += replace(rowLen - tileLen - tileStart, tileLen)\n",
    "    return arrangements"
   ]
  },
  {
   "cell_type": "code",
   "execution_count": 11,
   "metadata": {},
   "outputs": [
    {
     "name": "stdout",
     "output_type": "stream",
     "text": [
      "12\n"
     ]
    }
   ],
   "source": [
    "rowLen = 5\n",
    "red = 2\n",
    "green = 3\n",
    "blue = 4\n",
    "print(replace(rowLen, red) + replace(rowLen, green) + replace(rowLen, blue))\n"
   ]
  },
  {
   "cell_type": "markdown",
   "metadata": {},
   "source": [
    "This works fine for a row length of 5, but takes far too long with a row length of 50. I will implement a top-down approach to the recursion to speed up the computation time. I will create three arrays, one for each color, where the index is the row length, and the value is what replace(rowLen, tileLen) for that color and row length returns."
   ]
  },
  {
   "cell_type": "code",
   "execution_count": 13,
   "metadata": {},
   "outputs": [
    {
     "name": "stdout",
     "output_type": "stream",
     "text": [
      "20492570929\n"
     ]
    }
   ],
   "source": [
    "rowLen = 50\n",
    "redArr = [-1]*51\n",
    "blueArr = [-1]*51\n",
    "greenArr = [-1]*51\n",
    "\n",
    "def replaceRed(rowLen):\n",
    "    if rowLen < 2:\n",
    "        return 0\n",
    "    if redArr[rowLen] != -1:\n",
    "        return redArr[rowLen]\n",
    "    arrangements = 0\n",
    "    for tileStart in range(0, rowLen - 1):\n",
    "        arrangements += 1 # this tile + no succeeding tiles\n",
    "        arrangements += replaceRed(rowLen - 2 - tileStart)\n",
    "    redArr[rowLen] = arrangements\n",
    "    return arrangements\n",
    "\n",
    "def replaceBlue(rowLen):\n",
    "    if rowLen < 3:\n",
    "        return 0\n",
    "    if blueArr[rowLen] != -1:\n",
    "        return blueArr[rowLen]\n",
    "    arrangements = 0\n",
    "    for tileStart in range(0, rowLen - 2):\n",
    "        arrangements += 1 # this tile + no succeeding tiles\n",
    "        arrangements += replaceBlue(rowLen - 3 - tileStart)\n",
    "    blueArr[rowLen] = arrangements\n",
    "    return arrangements\n",
    "\n",
    "def replaceGreen(rowLen):\n",
    "    if rowLen < 4:\n",
    "        return 0\n",
    "    if greenArr[rowLen] != -1:\n",
    "        return greenArr[rowLen]\n",
    "    arrangements = 0\n",
    "    for tileStart in range(0, rowLen - 3):\n",
    "        arrangements += 1 # this tile + no succeeding tiles\n",
    "        arrangements += replaceGreen(rowLen - 4 - tileStart)\n",
    "    greenArr[rowLen] = arrangements\n",
    "    return arrangements\n",
    "\n",
    "print(replaceRed(rowLen) + replaceBlue(rowLen) + replaceGreen(rowLen))"
   ]
  }
 ],
 "metadata": {
  "kernelspec": {
   "display_name": "Python 3",
   "language": "python",
   "name": "python3"
  },
  "language_info": {
   "codemirror_mode": {
    "name": "ipython",
    "version": 3
   },
   "file_extension": ".py",
   "mimetype": "text/x-python",
   "name": "python",
   "nbconvert_exporter": "python",
   "pygments_lexer": "ipython3",
   "version": "3.12.2"
  }
 },
 "nbformat": 4,
 "nbformat_minor": 2
}
